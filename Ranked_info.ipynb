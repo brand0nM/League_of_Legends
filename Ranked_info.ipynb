{
 "cells": [
  {
   "cell_type": "code",
   "execution_count": null,
   "id": "41667e8d",
   "metadata": {},
   "outputs": [],
   "source": [
    "import requests \n",
    "import pandas as pd\n",
    "from config import riot_api\n",
    "from user_info import region_code"
   ]
  },
  {
   "cell_type": "code",
   "execution_count": null,
   "id": "ec3ca2c4",
   "metadata": {},
   "outputs": [],
   "source": [
    "# Ranked Data\n",
    "\n",
    "queue = input(\"Enter Your Queue Type: \") # Enter Queue Type [RANKED_SOLO_5x5, RANKED_TFT,\n",
    "                                        # RANKED_FLEX_SR, RANKED_FLEX_TT]\n",
    "tier = input(\"Enter Your Tier: \") # Enter Tier Level [IRON, BRONZE, SILVER, GOLD, \n",
    "                                        # PLATINUM, DIAMOND, MASTER, GRANDMASTER, CHALLENGER]\n",
    "division = input(\"Enter Your Division: \") # Enter Division Level [IV, III, II, I]\n",
    "page = 1 #input(\"Page Number: \")\n",
    "url = f\"https://{region_code}.api.riotgames.com/lol/league-exp/v4/entries/{queue}/{tier}/{division}?page={page}&api_key=\" + riot_api\n",
    "rank_info = requests.get(url).json()\n",
    "rank_info_df = pd.DataFrame(rank_info)\n",
    "rank_info_df"
   ]
  }
 ],
 "metadata": {
  "kernelspec": {
   "display_name": "Python 3 (ipykernel)",
   "language": "python",
   "name": "python3"
  },
  "language_info": {
   "codemirror_mode": {
    "name": "ipython",
    "version": 3
   },
   "file_extension": ".py",
   "mimetype": "text/x-python",
   "name": "python",
   "nbconvert_exporter": "python",
   "pygments_lexer": "ipython3",
   "version": "3.9.7"
  }
 },
 "nbformat": 4,
 "nbformat_minor": 5
}
