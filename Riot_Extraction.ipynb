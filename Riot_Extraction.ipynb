{
 "cells": [
  {
   "cell_type": "code",
   "execution_count": null,
   "id": "2b00cfb7",
   "metadata": {},
   "outputs": [],
   "source": [
    "import requests \n",
    "import inquirer\n",
    "import pandas as pd\n",
    "import numpy as np\n",
    "from config import riot_api"
   ]
  },
  {
   "cell_type": "code",
   "execution_count": null,
   "id": "aa18a951",
   "metadata": {},
   "outputs": [],
   "source": [
    "# region code is [{BR1:\"Brazil\",EUN1:\"EU Nordic & East\",EUW1:\"EU West\",JP1:\"Japan\",KR:\"Korea\",LA1:\"Latin America North\" \n",
    "# LA2:\"Latin America South,NA1:\"North America,OC1:\"Oceania\",PBE1:\"Public Beta Environment,RU:\"Russia\",TR1:Turkey}]\n",
    "\n",
    "region_code = input(\"Enter Your Region: \").upper() # Look up by Region\n",
    "\n",
    "# Free Champions Rotation\n",
    "\n",
    "url = \"https://na1.api.riotgames.com/lol/platform/v3/champion-rotations?api_key=\" + riot_api\n",
    "champ_list = requests.get(url).json()\n",
    "\n",
    "# Live Games\n",
    "\n",
    "url = f\"https://{region_code}.api.riotgames.com/lol/spectator/v4/featured-games?api_key=\" + riot_api\n",
    "live_games = requests.get(url)\n",
    "if live_games.status_code == \"200\":\n",
    "    live_games_status = \"Region availible\"\n",
    "else:\n",
    "    live_games_status =\"Region unavailible\"\n",
    "\n",
    "live_games = live_games.json()\n",
    "print(f\"{live_games_status}\\n{live_games['status']['status_code']}\")\n"
   ]
  },
  {
   "cell_type": "code",
   "execution_count": null,
   "id": "ab7ab521",
   "metadata": {},
   "outputs": [],
   "source": [
    "name = input(\"Enter Your Summoner Name: \") # And Username"
   ]
  },
  {
   "cell_type": "code",
   "execution_count": null,
   "id": "b7eda982",
   "metadata": {},
   "outputs": [],
   "source": [
    "# Summoners Data \n",
    "\n",
    "def Summoner (region_code, name):\n",
    "    if region_code in [\"NA\", \"BR\", \"LAN\", \"LAS\", \"OCE\"]:\n",
    "        region = \"americas\"\n",
    "    elif region_code in [\"KR\", \"JP\"]:\n",
    "        region = \"asia\"\n",
    "    else:\n",
    "        region = \"europe\"\n",
    "    url = f\"https://{region_code}.api.riotgames.com/lol/summoner/v4/summoners/by-name/{name}?api_key=\" + riot_api\n",
    "    summoner_info_1 = requests.get(url).json()\n",
    "    iden = summoner_info_1[\"id\"]\n",
    "    puuid = summoner_info_1[\"puuid\"]\n",
    "    url = f\"https://{region_code}.api.riotgames.com/lol/league/v4/entries/by-summoner/{iden}?api_key=\" + riot_api\n",
    "    summoner_info_2 = requests.get(url).json()\n",
    "    url = f\"https://{region_code}.api.riotgames.com/lol/champion-mastery/v4/champion-masteries/by-summoner/{iden}?api_key=\" + riot_api\n",
    "    summoner_info_3 = requests.get(url).json()\n",
    "    \n",
    "    url = f\"https://{region}.api.riotgames.com/lol/match/v5/matches/by-puuid/{puuid}/ids?start=0&count=20&api_key=\" + riot_api\n",
    "    summoner_info_4 = requests.get(url).json()\n",
    "    summoner_info_5 = [(requests.get(f\"https://{region}.api.riotgames.com/lol/match/v5/matches/{match}?api_key=\" + riot_api).json()) \n",
    "                       for match in summoner_info_4]\n",
    "    summoner_info_6 = [(requests.get(f\"https://{region}.api.riotgames.com/lol/match/v5/matches/{match}/timeline?api_key=\" + riot_api).json()) \n",
    "                       for match in summoner_info_4]\n",
    "    game_info = list(zip(summoner_info_4, summoner_info_5, summoner_info_6))\n",
    "    \n",
    "    if live_games_status == \"Region availible\":\n",
    "        url = f\"https://{region_code}.api.riotgames.com/lol/spectator/v4/active-games/by-summoner/{iden}?api_key=\" + riot_api\n",
    "        in_game_info =  requests.get(url)\n",
    "        if in_game_info.status_code == \"200\":\n",
    "            in_game_info =  in_game_info.json()\n",
    "            print(\"In Live Game\")\n",
    "        else:\n",
    "            in_game_info = np.nan\n",
    "            print(\"No Live Data\")\n",
    "    else:\n",
    "        in_game_info = np.nan\n",
    "    return [summoner_info_1, summoner_info_2, summoner_info_3, game_info, in_game_info]\n",
    "\n",
    "summoner_info = Summoner(region_code, name)\n",
    "\n"
   ]
  },
  {
   "cell_type": "code",
   "execution_count": null,
   "id": "7a013ade",
   "metadata": {},
   "outputs": [],
   "source": [
    "Last_20_Games_Metadata = summoner_info[3]\n",
    "Champ_Pool_Mastery = summoner_info[2]\n",
    "Ranked_info = summoner_info[1]\n",
    "\n",
    "summoner_info[0]"
   ]
  },
  {
   "cell_type": "code",
   "execution_count": null,
   "id": "90b4b9d0",
   "metadata": {},
   "outputs": [],
   "source": [
    "Last_20_Games_df = pd.DataFrame(Last_20_Games_Metadata)\n",
    "Last_20_Games_df"
   ]
  },
  {
   "cell_type": "code",
   "execution_count": null,
   "id": "17dc78ca",
   "metadata": {},
   "outputs": [],
   "source": [
    "# Ranked Data\n",
    "\n",
    "queue = input(\"Enter Your Queue Type: \") # Enter Queue Type [RANKED_SOLO_5x5, RANKED_TFT,\n",
    "                                        # RANKED_FLEX_SR, RANKED_FLEX_TT]\n",
    "tier = input(\"Enter Your Tier: \") # Enter Tier Level [IRON, BRONZE, SILVER, GOLD, \n",
    "                                        # PLATINUM, DIAMOND, MASTER, GRANDMASTER, CHALLENGER]\n",
    "division = input(\"Enter Your Division: \") # Enter Division Level [IV, III, II, I]\n",
    "page = 1 #input(\"Page Number: \")\n",
    "url = f\"https://na1.api.riotgames.com/lol/league-exp/v4/entries/{queue}/{tier}/{division}?page={page}&api_key=\" + riot_api\n",
    "rank_info = requests.get(url).json()\n",
    "\n",
    "rank_info"
   ]
  }
 ],
 "metadata": {
  "kernelspec": {
   "display_name": "Python 3 (ipykernel)",
   "language": "python",
   "name": "python3"
  },
  "language_info": {
   "codemirror_mode": {
    "name": "ipython",
    "version": 3
   },
   "file_extension": ".py",
   "mimetype": "text/x-python",
   "name": "python",
   "nbconvert_exporter": "python",
   "pygments_lexer": "ipython3",
   "version": "3.9.7"
  }
 },
 "nbformat": 4,
 "nbformat_minor": 5
}
